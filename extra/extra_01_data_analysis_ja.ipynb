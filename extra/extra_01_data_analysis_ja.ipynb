{
  "cells": [
    {
      "cell_type": "markdown",
      "metadata": {
        "collapsed": false,
        "id": "2DshTTsIj3m7"
      },
      "source": [
        "# Extra1 データ分析"
      ],
      "id": "2DshTTsIj3m7"
    },
    {
      "cell_type": "code",
      "execution_count": 45,
      "metadata": {
        "ExecuteTime": {
          "end_time": "2024-01-30T09:43:30.499336Z",
          "start_time": "2024-01-30T09:43:27.405571Z"
        },
        "colab": {
          "base_uri": "https://localhost:8080/"
        },
        "id": "Y2uPxJ6Bj3m-",
        "outputId": "498f1110-664f-4959-9c16-9caf30f97362"
      },
      "outputs": [
        {
          "output_type": "stream",
          "name": "stdout",
          "text": [
            "Requirement already satisfied: matplotlib in /usr/local/lib/python3.11/dist-packages (3.10.0)\n",
            "Requirement already satisfied: contourpy>=1.0.1 in /usr/local/lib/python3.11/dist-packages (from matplotlib) (1.3.1)\n",
            "Requirement already satisfied: cycler>=0.10 in /usr/local/lib/python3.11/dist-packages (from matplotlib) (0.12.1)\n",
            "Requirement already satisfied: fonttools>=4.22.0 in /usr/local/lib/python3.11/dist-packages (from matplotlib) (4.56.0)\n",
            "Requirement already satisfied: kiwisolver>=1.3.1 in /usr/local/lib/python3.11/dist-packages (from matplotlib) (1.4.8)\n",
            "Requirement already satisfied: numpy>=1.23 in /usr/local/lib/python3.11/dist-packages (from matplotlib) (2.0.2)\n",
            "Requirement already satisfied: packaging>=20.0 in /usr/local/lib/python3.11/dist-packages (from matplotlib) (24.2)\n",
            "Requirement already satisfied: pillow>=8 in /usr/local/lib/python3.11/dist-packages (from matplotlib) (11.1.0)\n",
            "Requirement already satisfied: pyparsing>=2.3.1 in /usr/local/lib/python3.11/dist-packages (from matplotlib) (3.2.1)\n",
            "Requirement already satisfied: python-dateutil>=2.7 in /usr/local/lib/python3.11/dist-packages (from matplotlib) (2.8.2)\n",
            "Requirement already satisfied: six>=1.5 in /usr/local/lib/python3.11/dist-packages (from python-dateutil>=2.7->matplotlib) (1.17.0)\n",
            "Requirement already satisfied: pandas in /usr/local/lib/python3.11/dist-packages (2.2.2)\n",
            "Requirement already satisfied: numpy>=1.23.2 in /usr/local/lib/python3.11/dist-packages (from pandas) (2.0.2)\n",
            "Requirement already satisfied: python-dateutil>=2.8.2 in /usr/local/lib/python3.11/dist-packages (from pandas) (2.8.2)\n",
            "Requirement already satisfied: pytz>=2020.1 in /usr/local/lib/python3.11/dist-packages (from pandas) (2025.1)\n",
            "Requirement already satisfied: tzdata>=2022.7 in /usr/local/lib/python3.11/dist-packages (from pandas) (2025.1)\n",
            "Requirement already satisfied: six>=1.5 in /usr/local/lib/python3.11/dist-packages (from python-dateutil>=2.8.2->pandas) (1.17.0)\n",
            "Requirement already satisfied: scikit-learn in /usr/local/lib/python3.11/dist-packages (1.6.1)\n",
            "Requirement already satisfied: numpy>=1.19.5 in /usr/local/lib/python3.11/dist-packages (from scikit-learn) (2.0.2)\n",
            "Requirement already satisfied: scipy>=1.6.0 in /usr/local/lib/python3.11/dist-packages (from scikit-learn) (1.14.1)\n",
            "Requirement already satisfied: joblib>=1.2.0 in /usr/local/lib/python3.11/dist-packages (from scikit-learn) (1.4.2)\n",
            "Requirement already satisfied: threadpoolctl>=3.1.0 in /usr/local/lib/python3.11/dist-packages (from scikit-learn) (3.6.0)\n",
            "Requirement already satisfied: seaborn in /usr/local/lib/python3.11/dist-packages (0.13.2)\n",
            "Requirement already satisfied: numpy!=1.24.0,>=1.20 in /usr/local/lib/python3.11/dist-packages (from seaborn) (2.0.2)\n",
            "Requirement already satisfied: pandas>=1.2 in /usr/local/lib/python3.11/dist-packages (from seaborn) (2.2.2)\n",
            "Requirement already satisfied: matplotlib!=3.6.1,>=3.4 in /usr/local/lib/python3.11/dist-packages (from seaborn) (3.10.0)\n",
            "Requirement already satisfied: contourpy>=1.0.1 in /usr/local/lib/python3.11/dist-packages (from matplotlib!=3.6.1,>=3.4->seaborn) (1.3.1)\n",
            "Requirement already satisfied: cycler>=0.10 in /usr/local/lib/python3.11/dist-packages (from matplotlib!=3.6.1,>=3.4->seaborn) (0.12.1)\n",
            "Requirement already satisfied: fonttools>=4.22.0 in /usr/local/lib/python3.11/dist-packages (from matplotlib!=3.6.1,>=3.4->seaborn) (4.56.0)\n",
            "Requirement already satisfied: kiwisolver>=1.3.1 in /usr/local/lib/python3.11/dist-packages (from matplotlib!=3.6.1,>=3.4->seaborn) (1.4.8)\n",
            "Requirement already satisfied: packaging>=20.0 in /usr/local/lib/python3.11/dist-packages (from matplotlib!=3.6.1,>=3.4->seaborn) (24.2)\n",
            "Requirement already satisfied: pillow>=8 in /usr/local/lib/python3.11/dist-packages (from matplotlib!=3.6.1,>=3.4->seaborn) (11.1.0)\n",
            "Requirement already satisfied: pyparsing>=2.3.1 in /usr/local/lib/python3.11/dist-packages (from matplotlib!=3.6.1,>=3.4->seaborn) (3.2.1)\n",
            "Requirement already satisfied: python-dateutil>=2.7 in /usr/local/lib/python3.11/dist-packages (from matplotlib!=3.6.1,>=3.4->seaborn) (2.8.2)\n",
            "Requirement already satisfied: pytz>=2020.1 in /usr/local/lib/python3.11/dist-packages (from pandas>=1.2->seaborn) (2025.1)\n",
            "Requirement already satisfied: tzdata>=2022.7 in /usr/local/lib/python3.11/dist-packages (from pandas>=1.2->seaborn) (2025.1)\n",
            "Requirement already satisfied: six>=1.5 in /usr/local/lib/python3.11/dist-packages (from python-dateutil>=2.7->matplotlib!=3.6.1,>=3.4->seaborn) (1.17.0)\n"
          ]
        }
      ],
      "source": [
        "# 演習に必要なライブラリのインストール\n",
        "!pip install matplotlib\n",
        "!pip install pandas\n",
        "!pip install scikit-learn\n",
        "!pip install seaborn\n",
        "\n",
        "import pprint\n",
        "from matplotlib import pyplot as plt\n",
        "%matplotlib inline\n",
        "import pandas as pd\n",
        "import seaborn as sns\n",
        "from sklearn import datasets"
      ],
      "id": "Y2uPxJ6Bj3m-"
    },
    {
      "cell_type": "markdown",
      "metadata": {
        "collapsed": false,
        "id": "JlvRTYutj3nA"
      },
      "source": [
        "## 問題1 データ読み込み\n",
        "\n",
        "今回の演習では UCI Machine Learning Repository が提供している Wine のデータセットを使用します。[Ref](https://archive.ics.uci.edu/dataset/109/wine)\n",
        "このデータセットはイタリアの同じ地域で栽培され、3つの異なる品種に由来するワインの化学分析の結果です。\n",
        "\n",
        "なおデータ定義は以下の通りです。"
      ],
      "id": "JlvRTYutj3nA"
    },
    {
      "cell_type": "markdown",
      "metadata": {
        "collapsed": false,
        "id": "2FnpWUX9j3nA"
      },
      "source": [
        "### target\n",
        "\n",
        "| 変数名    | 定義     |\n",
        "|--------|--------|\n",
        "| target | ワインの種類 |"
      ],
      "id": "2FnpWUX9j3nA"
    },
    {
      "cell_type": "markdown",
      "metadata": {
        "collapsed": false,
        "id": "qJ8NHbLnj3nA"
      },
      "source": [
        "### feature_names\n",
        "\n",
        "| 変数名                          | 定義                            |\n",
        "|------------------------------|-------------------------------|\n",
        "| alcohol                      | アルコール濃度                       |\n",
        "| malic_acid                   | リンゴ酸濃度                        |\n",
        "| ash                          | 灰分濃度                          |\n",
        "| alcalinity_of_ash            | 灰のアルカリ性                       |\n",
        "| magnesium                    | マグネシウム量                       |\n",
        "| total_phenol                 | フェノール量                        |\n",
        "| flavanoids                   | フラバノイド量                       |\n",
        "| nonflavanoid_phenols         | 非フラバノイドフェノール類の量               |\n",
        "| proanthocyanins              | プロアントシアニン                     |\n",
        "| color_intensity              | 色の強度                          |\n",
        "| hue                          | 色調                            |\n",
        "| od280/OD315_of_diluted wines | 薄めたワインの280nmと315nmの波長の光に対する濁度 |\n",
        "| proline                      | プロリン量                         |\n",
        "\n",
        "ワインの味と成分についての[参考資料](https://www.jstage.jst.go.jp/article/jbrewsocjapan1915/75/8/75_8_631/_pdf/-char/ja)"
      ],
      "id": "qJ8NHbLnj3nA"
    },
    {
      "cell_type": "markdown",
      "metadata": {
        "collapsed": false,
        "id": "qcdAJKLLj3nB"
      },
      "source": [
        "### Wine データセットの読み込み\n",
        "\n",
        "Wine データセットは上で `import` した `sklearn.datasets` に格納されています。\n",
        "`sklearn.datasets` からデータセットを読み込むには次のコードを実行します。[Ref](https://scikit-learn.org/stable/modules/generated/sklearn.datasets.load_wine.html)"
      ],
      "id": "qcdAJKLLj3nB"
    },
    {
      "cell_type": "code",
      "execution_count": 46,
      "metadata": {
        "ExecuteTime": {
          "end_time": "2024-01-30T09:43:30.506148Z",
          "start_time": "2024-01-30T09:43:30.500653Z"
        },
        "id": "013bUyPrj3nB"
      },
      "outputs": [],
      "source": [
        "wine_data = datasets.load_wine()"
      ],
      "id": "013bUyPrj3nB"
    },
    {
      "cell_type": "markdown",
      "metadata": {
        "collapsed": false,
        "id": "LddJ4pQwj3nB"
      },
      "source": [
        "実際に読み込んだデータの中身を見ていきましょう。\n",
        "`Python` の標準ライブラリである `pprint` モジュールを使うと、リスト型や辞書型などのオブジェクトを、整形してきれいに表示できます。[Ref](https://docs.python.org/3/library/pprint.html#module-pprint)"
      ],
      "id": "LddJ4pQwj3nB"
    },
    {
      "cell_type": "code",
      "execution_count": 47,
      "metadata": {
        "ExecuteTime": {
          "end_time": "2024-01-30T09:43:30.511681Z",
          "start_time": "2024-01-30T09:43:30.506661Z"
        },
        "colab": {
          "base_uri": "https://localhost:8080/"
        },
        "id": "ItyK8qNEj3nC",
        "outputId": "508c9a34-41e5-498e-812c-31cbbf492307"
      },
      "outputs": [
        {
          "output_type": "stream",
          "name": "stdout",
          "text": [
            "{'DESCR': '.. _wine_dataset:\\n'\n",
            "          '\\n'\n",
            "          'Wine recognition dataset\\n'\n",
            "          '------------------------\\n'\n",
            "          '\\n'\n",
            "          '**Data Set Characteristics:**\\n'\n",
            "          '\\n'\n",
            "          ':Number of Instances: 178\\n'\n",
            "          ':Number of Attributes: 13 numeric, predictive attributes and the '\n",
            "          'class\\n'\n",
            "          ':Attribute Information:\\n'\n",
            "          '    - Alcohol\\n'\n",
            "          '    - Malic acid\\n'\n",
            "          '    - Ash\\n'\n",
            "          '    - Alcalinity of ash\\n'\n",
            "          '    - Magnesium\\n'\n",
            "          '    - Total phenols\\n'\n",
            "          '    - Flavanoids\\n'\n",
            "          '    - Nonflavanoid phenols\\n'\n",
            "          '    - Proanthocyanins\\n'\n",
            "          '    - Color intensity\\n'\n",
            "          '    - Hue\\n'\n",
            "          '    - OD280/OD315 of diluted wines\\n'\n",
            "          '    - Proline\\n'\n",
            "          '    - class:\\n'\n",
            "          '        - class_0\\n'\n",
            "          '        - class_1\\n'\n",
            "          '        - class_2\\n'\n",
            "          '\\n'\n",
            "          ':Summary Statistics:\\n'\n",
            "          '\\n'\n",
            "          '============================= ==== ===== ======= =====\\n'\n",
            "          '                                Min   Max   Mean     SD\\n'\n",
            "          '============================= ==== ===== ======= =====\\n'\n",
            "          'Alcohol:                      11.0  14.8    13.0   0.8\\n'\n",
            "          'Malic Acid:                   0.74  5.80    2.34  1.12\\n'\n",
            "          'Ash:                          1.36  3.23    2.36  0.27\\n'\n",
            "          'Alcalinity of Ash:            10.6  30.0    19.5   3.3\\n'\n",
            "          'Magnesium:                    70.0 162.0    99.7  14.3\\n'\n",
            "          'Total Phenols:                0.98  3.88    2.29  0.63\\n'\n",
            "          'Flavanoids:                   0.34  5.08    2.03  1.00\\n'\n",
            "          'Nonflavanoid Phenols:         0.13  0.66    0.36  0.12\\n'\n",
            "          'Proanthocyanins:              0.41  3.58    1.59  0.57\\n'\n",
            "          'Colour Intensity:              1.3  13.0     5.1   2.3\\n'\n",
            "          'Hue:                          0.48  1.71    0.96  0.23\\n'\n",
            "          'OD280/OD315 of diluted wines: 1.27  4.00    2.61  0.71\\n'\n",
            "          'Proline:                       278  1680     746   315\\n'\n",
            "          '============================= ==== ===== ======= =====\\n'\n",
            "          '\\n'\n",
            "          ':Missing Attribute Values: None\\n'\n",
            "          ':Class Distribution: class_0 (59), class_1 (71), class_2 (48)\\n'\n",
            "          ':Creator: R.A. Fisher\\n'\n",
            "          ':Donor: Michael Marshall (MARSHALL%PLU@io.arc.nasa.gov)\\n'\n",
            "          ':Date: July, 1988\\n'\n",
            "          '\\n'\n",
            "          'This is a copy of UCI ML Wine recognition datasets.\\n'\n",
            "          'https://archive.ics.uci.edu/ml/machine-learning-databases/wine/wine.data\\n'\n",
            "          '\\n'\n",
            "          'The data is the results of a chemical analysis of wines grown in '\n",
            "          'the same\\n'\n",
            "          'region in Italy by three different cultivators. There are thirteen '\n",
            "          'different\\n'\n",
            "          'measurements taken for different constituents found in the three '\n",
            "          'types of\\n'\n",
            "          'wine.\\n'\n",
            "          '\\n'\n",
            "          'Original Owners:\\n'\n",
            "          '\\n'\n",
            "          'Forina, M. et al, PARVUS -\\n'\n",
            "          'An Extendible Package for Data Exploration, Classification and '\n",
            "          'Correlation.\\n'\n",
            "          'Institute of Pharmaceutical and Food Analysis and Technologies,\\n'\n",
            "          'Via Brigata Salerno, 16147 Genoa, Italy.\\n'\n",
            "          '\\n'\n",
            "          'Citation:\\n'\n",
            "          '\\n'\n",
            "          'Lichman, M. (2013). UCI Machine Learning Repository\\n'\n",
            "          '[https://archive.ics.uci.edu/ml]. Irvine, CA: University of '\n",
            "          'California,\\n'\n",
            "          'School of Information and Computer Science.\\n'\n",
            "          '\\n'\n",
            "          '.. dropdown:: References\\n'\n",
            "          '\\n'\n",
            "          '    (1) S. Aeberhard, D. Coomans and O. de Vel,\\n'\n",
            "          '    Comparison of Classifiers in High Dimensional Settings,\\n'\n",
            "          '    Tech. Rep. no. 92-02, (1992), Dept. of Computer Science and '\n",
            "          'Dept. of\\n'\n",
            "          '    Mathematics and Statistics, James Cook University of North '\n",
            "          'Queensland.\\n'\n",
            "          '    (Also submitted to Technometrics).\\n'\n",
            "          '\\n'\n",
            "          '    The data was used with many others for comparing various\\n'\n",
            "          '    classifiers. The classes are separable, though only RDA\\n'\n",
            "          '    has achieved 100% correct classification.\\n'\n",
            "          '    (RDA : 100%, QDA 99.4%, LDA 98.9%, 1NN 96.1% (z-transformed '\n",
            "          'data))\\n'\n",
            "          '    (All results using the leave-one-out technique)\\n'\n",
            "          '\\n'\n",
            "          '    (2) S. Aeberhard, D. Coomans and O. de Vel,\\n'\n",
            "          '    \"THE CLASSIFICATION PERFORMANCE OF RDA\"\\n'\n",
            "          '    Tech. Rep. no. 92-01, (1992), Dept. of Computer Science and '\n",
            "          'Dept. of\\n'\n",
            "          '    Mathematics and Statistics, James Cook University of North '\n",
            "          'Queensland.\\n'\n",
            "          '    (Also submitted to Journal of Chemometrics).\\n',\n",
            " 'data': array([[1.423e+01, 1.710e+00, 2.430e+00, ..., 1.040e+00, 3.920e+00,\n",
            "        1.065e+03],\n",
            "       [1.320e+01, 1.780e+00, 2.140e+00, ..., 1.050e+00, 3.400e+00,\n",
            "        1.050e+03],\n",
            "       [1.316e+01, 2.360e+00, 2.670e+00, ..., 1.030e+00, 3.170e+00,\n",
            "        1.185e+03],\n",
            "       ...,\n",
            "       [1.327e+01, 4.280e+00, 2.260e+00, ..., 5.900e-01, 1.560e+00,\n",
            "        8.350e+02],\n",
            "       [1.317e+01, 2.590e+00, 2.370e+00, ..., 6.000e-01, 1.620e+00,\n",
            "        8.400e+02],\n",
            "       [1.413e+01, 4.100e+00, 2.740e+00, ..., 6.100e-01, 1.600e+00,\n",
            "        5.600e+02]]),\n",
            " 'feature_names': ['alcohol',\n",
            "                   'malic_acid',\n",
            "                   'ash',\n",
            "                   'alcalinity_of_ash',\n",
            "                   'magnesium',\n",
            "                   'total_phenols',\n",
            "                   'flavanoids',\n",
            "                   'nonflavanoid_phenols',\n",
            "                   'proanthocyanins',\n",
            "                   'color_intensity',\n",
            "                   'hue',\n",
            "                   'od280/od315_of_diluted_wines',\n",
            "                   'proline'],\n",
            " 'frame': None,\n",
            " 'target': array([0, 0, 0, 0, 0, 0, 0, 0, 0, 0, 0, 0, 0, 0, 0, 0, 0, 0, 0, 0, 0, 0,\n",
            "       0, 0, 0, 0, 0, 0, 0, 0, 0, 0, 0, 0, 0, 0, 0, 0, 0, 0, 0, 0, 0, 0,\n",
            "       0, 0, 0, 0, 0, 0, 0, 0, 0, 0, 0, 0, 0, 0, 0, 1, 1, 1, 1, 1, 1, 1,\n",
            "       1, 1, 1, 1, 1, 1, 1, 1, 1, 1, 1, 1, 1, 1, 1, 1, 1, 1, 1, 1, 1, 1,\n",
            "       1, 1, 1, 1, 1, 1, 1, 1, 1, 1, 1, 1, 1, 1, 1, 1, 1, 1, 1, 1, 1, 1,\n",
            "       1, 1, 1, 1, 1, 1, 1, 1, 1, 1, 1, 1, 1, 1, 1, 1, 1, 1, 1, 1, 2, 2,\n",
            "       2, 2, 2, 2, 2, 2, 2, 2, 2, 2, 2, 2, 2, 2, 2, 2, 2, 2, 2, 2, 2, 2,\n",
            "       2, 2, 2, 2, 2, 2, 2, 2, 2, 2, 2, 2, 2, 2, 2, 2, 2, 2, 2, 2, 2, 2,\n",
            "       2, 2]),\n",
            " 'target_names': array(['class_0', 'class_1', 'class_2'], dtype='<U7')}\n"
          ]
        }
      ],
      "source": [
        "pprint.pprint(wine_data)"
      ],
      "id": "ItyK8qNEj3nC"
    },
    {
      "cell_type": "markdown",
      "metadata": {
        "collapsed": false,
        "id": "nrGhtDkpj3nC"
      },
      "source": [
        "Wine データセットの詳細、data、特徴量名などが辞書型で格納されていることが分かります。"
      ],
      "id": "nrGhtDkpj3nC"
    },
    {
      "cell_type": "markdown",
      "metadata": {
        "collapsed": false,
        "id": "zeZnGFkNj3nC"
      },
      "source": [
        "### 問題1-1\n",
        "\n",
        "上で読み込んだデータセット `wine_data` から `data` のみを抽出して、出力して下さい。(※ヒントは[こちら](https://docs.python.org/3/tutorial/datastructures.html#dictionaries))"
      ],
      "id": "zeZnGFkNj3nC"
    },
    {
      "cell_type": "code",
      "execution_count": 48,
      "metadata": {
        "ExecuteTime": {
          "end_time": "2024-01-30T09:43:30.516460Z",
          "start_time": "2024-01-30T09:43:30.513464Z"
        },
        "colab": {
          "base_uri": "https://localhost:8080/"
        },
        "id": "nSJcq9L6j3nC",
        "outputId": "90fc911d-8f56-4f51-8050-c5e7a922edbc"
      },
      "outputs": [
        {
          "output_type": "stream",
          "name": "stdout",
          "text": [
            "[[1.423e+01 1.710e+00 2.430e+00 ... 1.040e+00 3.920e+00 1.065e+03]\n",
            " [1.320e+01 1.780e+00 2.140e+00 ... 1.050e+00 3.400e+00 1.050e+03]\n",
            " [1.316e+01 2.360e+00 2.670e+00 ... 1.030e+00 3.170e+00 1.185e+03]\n",
            " ...\n",
            " [1.327e+01 4.280e+00 2.260e+00 ... 5.900e-01 1.560e+00 8.350e+02]\n",
            " [1.317e+01 2.590e+00 2.370e+00 ... 6.000e-01 1.620e+00 8.400e+02]\n",
            " [1.413e+01 4.100e+00 2.740e+00 ... 6.100e-01 1.600e+00 5.600e+02]]\n"
          ]
        }
      ],
      "source": [
        "# ===== 以下に解答のコードを入力して下さい =====\n",
        "wine_data_only = wine_data['data']\n",
        "print(wine_data_only)"
      ],
      "id": "nSJcq9L6j3nC"
    },
    {
      "cell_type": "markdown",
      "metadata": {
        "collapsed": false,
        "id": "H_jI6EzAj3nD"
      },
      "source": [
        "### 問題1-2\n",
        "\n",
        "問題1-1 で読み込んだデータを pandas の dataframe に変換して下さい。その際変数名は `wine_df`、カラム名は `wine_data.feature_names` を使用して下さい。(※ヒントは[こちら](https://pandas.pydata.org/docs/reference/api/pandas.DataFrame.html))"
      ],
      "id": "H_jI6EzAj3nD"
    },
    {
      "cell_type": "code",
      "execution_count": 49,
      "metadata": {
        "ExecuteTime": {
          "end_time": "2024-01-30T09:43:30.519707Z",
          "start_time": "2024-01-30T09:43:30.517691Z"
        },
        "id": "fNBEwyzKj3nD"
      },
      "outputs": [],
      "source": [
        "# ===== 以下に解答のコードを入力して下さい =====\n",
        "wine_df = None\n",
        "import pandas as pd\n",
        "wine_df = pd.DataFrame(wine_data_only, columns=wine_data['feature_names'])"
      ],
      "id": "fNBEwyzKj3nD"
    },
    {
      "cell_type": "markdown",
      "metadata": {
        "collapsed": false,
        "id": "62nGhrP5j3nD"
      },
      "source": [
        "### 問題1-3\n",
        "\n",
        "問題1-2 で変換した `wine_df` について、上から10行を Notebook 上に表示してみましょう。(※ヒントは[こちら](https://pandas.pydata.org/docs/reference/api/pandas.DataFrame.head.html))"
      ],
      "id": "62nGhrP5j3nD"
    },
    {
      "cell_type": "code",
      "execution_count": 50,
      "metadata": {
        "ExecuteTime": {
          "end_time": "2024-01-30T09:43:30.572231Z",
          "start_time": "2024-01-30T09:43:30.528285Z"
        },
        "colab": {
          "base_uri": "https://localhost:8080/"
        },
        "id": "QRdgmqvRj3nD",
        "outputId": "d47e356b-aecc-46e7-ce2a-32fff380eb7f"
      },
      "outputs": [
        {
          "output_type": "stream",
          "name": "stdout",
          "text": [
            "   alcohol  malic_acid   ash  alcalinity_of_ash  magnesium  total_phenols  \\\n",
            "0    14.23        1.71  2.43               15.6      127.0           2.80   \n",
            "1    13.20        1.78  2.14               11.2      100.0           2.65   \n",
            "2    13.16        2.36  2.67               18.6      101.0           2.80   \n",
            "3    14.37        1.95  2.50               16.8      113.0           3.85   \n",
            "4    13.24        2.59  2.87               21.0      118.0           2.80   \n",
            "5    14.20        1.76  2.45               15.2      112.0           3.27   \n",
            "6    14.39        1.87  2.45               14.6       96.0           2.50   \n",
            "7    14.06        2.15  2.61               17.6      121.0           2.60   \n",
            "8    14.83        1.64  2.17               14.0       97.0           2.80   \n",
            "9    13.86        1.35  2.27               16.0       98.0           2.98   \n",
            "\n",
            "   flavanoids  nonflavanoid_phenols  proanthocyanins  color_intensity   hue  \\\n",
            "0        3.06                  0.28             2.29             5.64  1.04   \n",
            "1        2.76                  0.26             1.28             4.38  1.05   \n",
            "2        3.24                  0.30             2.81             5.68  1.03   \n",
            "3        3.49                  0.24             2.18             7.80  0.86   \n",
            "4        2.69                  0.39             1.82             4.32  1.04   \n",
            "5        3.39                  0.34             1.97             6.75  1.05   \n",
            "6        2.52                  0.30             1.98             5.25  1.02   \n",
            "7        2.51                  0.31             1.25             5.05  1.06   \n",
            "8        2.98                  0.29             1.98             5.20  1.08   \n",
            "9        3.15                  0.22             1.85             7.22  1.01   \n",
            "\n",
            "   od280/od315_of_diluted_wines  proline  \n",
            "0                          3.92   1065.0  \n",
            "1                          3.40   1050.0  \n",
            "2                          3.17   1185.0  \n",
            "3                          3.45   1480.0  \n",
            "4                          2.93    735.0  \n",
            "5                          2.85   1450.0  \n",
            "6                          3.58   1290.0  \n",
            "7                          3.58   1295.0  \n",
            "8                          2.85   1045.0  \n",
            "9                          3.55   1045.0  \n"
          ]
        }
      ],
      "source": [
        "# ===== 以下に解答のコードを入力して下さい =====\n",
        "print(wine_df.head(10))"
      ],
      "id": "QRdgmqvRj3nD"
    },
    {
      "cell_type": "markdown",
      "metadata": {
        "collapsed": false,
        "id": "dyjFfwunj3nD"
      },
      "source": [
        "### 問題1-4\n",
        "\n",
        "`wine_df` の行数、列数を確認しましょう。(※ヒントは[こちら](https://pandas.pydata.org/docs/reference/api/pandas.DataFrame.shape.html))"
      ],
      "id": "dyjFfwunj3nD"
    },
    {
      "cell_type": "code",
      "execution_count": 51,
      "metadata": {
        "ExecuteTime": {
          "end_time": "2024-01-30T09:43:30.572417Z",
          "start_time": "2024-01-30T09:43:30.531643Z"
        },
        "colab": {
          "base_uri": "https://localhost:8080/"
        },
        "id": "pbz9jXCKj3nD",
        "outputId": "839856db-2b58-4665-dc61-a96707809bde"
      },
      "outputs": [
        {
          "output_type": "stream",
          "name": "stdout",
          "text": [
            "(178, 13)\n"
          ]
        }
      ],
      "source": [
        "# ===== 以下に解答のコードを入力して下さい =====\n",
        "print(wine_df.shape)"
      ],
      "id": "pbz9jXCKj3nD"
    },
    {
      "cell_type": "markdown",
      "metadata": {
        "collapsed": false,
        "id": "5lgkhTKjj3nD"
      },
      "source": [
        "### 問題1-5\n",
        "\n",
        "`wine_df` の列名の一覧を確認しましょう。(※ヒントは[こちら](https://pandas.pydata.org/docs/reference/api/pandas.DataFrame.columns.html))"
      ],
      "id": "5lgkhTKjj3nD"
    },
    {
      "cell_type": "code",
      "execution_count": 52,
      "metadata": {
        "ExecuteTime": {
          "end_time": "2024-01-30T09:43:30.572551Z",
          "start_time": "2024-01-30T09:43:30.534718Z"
        },
        "colab": {
          "base_uri": "https://localhost:8080/"
        },
        "id": "ZbsawYe5j3nD",
        "outputId": "6df56971-077d-466c-8f83-bcce07ffe2d3"
      },
      "outputs": [
        {
          "output_type": "stream",
          "name": "stdout",
          "text": [
            "Index(['alcohol', 'malic_acid', 'ash', 'alcalinity_of_ash', 'magnesium',\n",
            "       'total_phenols', 'flavanoids', 'nonflavanoid_phenols',\n",
            "       'proanthocyanins', 'color_intensity', 'hue',\n",
            "       'od280/od315_of_diluted_wines', 'proline'],\n",
            "      dtype='object')\n"
          ]
        }
      ],
      "source": [
        "# ===== 以下に解答のコードを入力して下さい =====\n",
        "print(wine_df.columns)"
      ],
      "id": "ZbsawYe5j3nD"
    },
    {
      "cell_type": "markdown",
      "metadata": {
        "collapsed": false,
        "id": "fnv5liP7j3nD"
      },
      "source": [
        "### 問題1-6\n",
        "\n",
        "`wine_df` から、列 `alcohol` を取得してみましょう。"
      ],
      "id": "fnv5liP7j3nD"
    },
    {
      "cell_type": "code",
      "execution_count": 53,
      "metadata": {
        "ExecuteTime": {
          "end_time": "2024-01-30T09:43:30.572751Z",
          "start_time": "2024-01-30T09:43:30.538581Z"
        },
        "colab": {
          "base_uri": "https://localhost:8080/"
        },
        "id": "RV9urtwqj3nD",
        "outputId": "55d6ce93-4f93-4343-9a04-49fc193b54d8"
      },
      "outputs": [
        {
          "output_type": "stream",
          "name": "stdout",
          "text": [
            "0      14.23\n",
            "1      13.20\n",
            "2      13.16\n",
            "3      14.37\n",
            "4      13.24\n",
            "       ...  \n",
            "173    13.71\n",
            "174    13.40\n",
            "175    13.27\n",
            "176    13.17\n",
            "177    14.13\n",
            "Name: alcohol, Length: 178, dtype: float64\n"
          ]
        }
      ],
      "source": [
        "# ===== 以下に解答のコードを入力して下さい =====\n",
        "print(wine_df['alcohol'])"
      ],
      "id": "RV9urtwqj3nD"
    },
    {
      "cell_type": "markdown",
      "metadata": {
        "collapsed": false,
        "id": "NKCn1AsUj3nE"
      },
      "source": [
        "### 問題1-7\n",
        "\n",
        "`wine_df` から、列 `color_intensity`, `hue` を取得してみましょう。"
      ],
      "id": "NKCn1AsUj3nE"
    },
    {
      "cell_type": "code",
      "execution_count": 54,
      "metadata": {
        "ExecuteTime": {
          "end_time": "2024-01-30T09:43:30.572877Z",
          "start_time": "2024-01-30T09:43:30.544578Z"
        },
        "colab": {
          "base_uri": "https://localhost:8080/"
        },
        "id": "w_VyvGv-j3nE",
        "outputId": "58933aea-c5e9-4016-dd46-60d1795c49c5"
      },
      "outputs": [
        {
          "output_type": "stream",
          "name": "stdout",
          "text": [
            "     color_intensity   hue\n",
            "0               5.64  1.04\n",
            "1               4.38  1.05\n",
            "2               5.68  1.03\n",
            "3               7.80  0.86\n",
            "4               4.32  1.04\n",
            "..               ...   ...\n",
            "173             7.70  0.64\n",
            "174             7.30  0.70\n",
            "175            10.20  0.59\n",
            "176             9.30  0.60\n",
            "177             9.20  0.61\n",
            "\n",
            "[178 rows x 2 columns]\n"
          ]
        }
      ],
      "source": [
        "# ===== 以下に解答のコードを入力して下さい =====\n",
        "print(wine_df[['color_intensity', 'hue']])"
      ],
      "id": "w_VyvGv-j3nE"
    },
    {
      "cell_type": "markdown",
      "metadata": {
        "collapsed": false,
        "id": "2TNUxBdOj3nE"
      },
      "source": [
        "## 問題2 データ操作\n",
        "\n",
        "dataframe に対する操作を実践してみましょう。"
      ],
      "id": "2TNUxBdOj3nE"
    },
    {
      "cell_type": "markdown",
      "metadata": {
        "collapsed": false,
        "id": "8MCZj1M-j3nE"
      },
      "source": [
        "### 問題2-1\n",
        "\n",
        "`wine_df` から `magnesium` の値が `100` 以上の行を抽出して、Notebook に表示してみましょう。(※ヒントは[こちら](https://pandas.pydata.org/docs/reference/api/pandas.DataFrame.loc.html))\n",
        "\n",
        "また `magnesium` の値が `100` 以上のものはいくつありますか？"
      ],
      "id": "8MCZj1M-j3nE"
    },
    {
      "cell_type": "code",
      "execution_count": 55,
      "metadata": {
        "ExecuteTime": {
          "end_time": "2024-01-30T09:43:30.572958Z",
          "start_time": "2024-01-30T09:43:30.555459Z"
        },
        "colab": {
          "base_uri": "https://localhost:8080/"
        },
        "id": "V-AvtTB5j3nE",
        "outputId": "24babba1-61c0-4c06-fc20-c5029588cec5"
      },
      "outputs": [
        {
          "output_type": "stream",
          "name": "stdout",
          "text": [
            "     alcohol  malic_acid   ash  alcalinity_of_ash  magnesium  total_phenols  \\\n",
            "0      14.23        1.71  2.43               15.6      127.0           2.80   \n",
            "1      13.20        1.78  2.14               11.2      100.0           2.65   \n",
            "2      13.16        2.36  2.67               18.6      101.0           2.80   \n",
            "3      14.37        1.95  2.50               16.8      113.0           3.85   \n",
            "4      13.24        2.59  2.87               21.0      118.0           2.80   \n",
            "..       ...         ...   ...                ...        ...            ...   \n",
            "168    13.58        2.58  2.69               24.5      105.0           1.55   \n",
            "169    13.40        4.60  2.86               25.0      112.0           1.98   \n",
            "174    13.40        3.91  2.48               23.0      102.0           1.80   \n",
            "175    13.27        4.28  2.26               20.0      120.0           1.59   \n",
            "176    13.17        2.59  2.37               20.0      120.0           1.65   \n",
            "\n",
            "     flavanoids  nonflavanoid_phenols  proanthocyanins  color_intensity   hue  \\\n",
            "0          3.06                  0.28             2.29             5.64  1.04   \n",
            "1          2.76                  0.26             1.28             4.38  1.05   \n",
            "2          3.24                  0.30             2.81             5.68  1.03   \n",
            "3          3.49                  0.24             2.18             7.80  0.86   \n",
            "4          2.69                  0.39             1.82             4.32  1.04   \n",
            "..          ...                   ...              ...              ...   ...   \n",
            "168        0.84                  0.39             1.54             8.66  0.74   \n",
            "169        0.96                  0.27             1.11             8.50  0.67   \n",
            "174        0.75                  0.43             1.41             7.30  0.70   \n",
            "175        0.69                  0.43             1.35            10.20  0.59   \n",
            "176        0.68                  0.53             1.46             9.30  0.60   \n",
            "\n",
            "     od280/od315_of_diluted_wines  proline  \n",
            "0                            3.92   1065.0  \n",
            "1                            3.40   1050.0  \n",
            "2                            3.17   1185.0  \n",
            "3                            3.45   1480.0  \n",
            "4                            2.93    735.0  \n",
            "..                            ...      ...  \n",
            "168                          1.80    750.0  \n",
            "169                          1.92    630.0  \n",
            "174                          1.56    750.0  \n",
            "175                          1.56    835.0  \n",
            "176                          1.62    840.0  \n",
            "\n",
            "[81 rows x 13 columns]\n"
          ]
        }
      ],
      "source": [
        "# ===== 以下に解答のコードを入力して下さい =====\n",
        "magnesium_high = wine_df[wine_df['magnesium'] >= 100]\n",
        "print(magnesium_high)"
      ],
      "id": "V-AvtTB5j3nE"
    },
    {
      "cell_type": "code",
      "execution_count": 56,
      "metadata": {
        "ExecuteTime": {
          "end_time": "2024-01-30T09:43:30.573023Z",
          "start_time": "2024-01-30T09:43:30.558276Z"
        },
        "colab": {
          "base_uri": "https://localhost:8080/"
        },
        "id": "jkk-tzXtj3nE",
        "outputId": "1bfd3b7b-2279-4c5f-9873-29f7d367d596"
      },
      "outputs": [
        {
          "output_type": "stream",
          "name": "stdout",
          "text": [
            "magnesiumが100以上の数: 81\n"
          ]
        }
      ],
      "source": [
        "# ===== 以下に解答のコードを入力して下さい =====\n",
        "print(f\"magnesiumが100以上の数: {len(magnesium_high)}\")"
      ],
      "id": "jkk-tzXtj3nE"
    },
    {
      "cell_type": "markdown",
      "metadata": {
        "collapsed": false,
        "id": "WO675VHqj3nE"
      },
      "source": [
        "### 問題2-2\n",
        "\n",
        "`wine_df` から `ash` の値の降順で並べ替え、上から10行を Notebook に表示してみましょう。(※ヒントは[こちら](https://pandas.pydata.org/docs/reference/api/pandas.DataFrame.sort_values.html))"
      ],
      "id": "WO675VHqj3nE"
    },
    {
      "cell_type": "code",
      "execution_count": 57,
      "metadata": {
        "ExecuteTime": {
          "end_time": "2024-01-30T09:43:30.573093Z",
          "start_time": "2024-01-30T09:43:30.560559Z"
        },
        "colab": {
          "base_uri": "https://localhost:8080/"
        },
        "id": "5k2DJgF1j3nE",
        "outputId": "a4acb17e-00fe-454d-b71d-2b511b2654b8"
      },
      "outputs": [
        {
          "output_type": "stream",
          "name": "stdout",
          "text": [
            "     alcohol  malic_acid   ash  alcalinity_of_ash  magnesium  total_phenols  \\\n",
            "121    11.56        2.05  3.23               28.5      119.0           3.18   \n",
            "25     13.05        2.05  3.22               25.0      124.0           2.63   \n",
            "112    11.76        2.68  2.92               20.0      103.0           1.75   \n",
            "4      13.24        2.59  2.87               21.0      118.0           2.80   \n",
            "169    13.40        4.60  2.86               25.0      112.0           1.98   \n",
            "36     13.28        1.64  2.84               15.5      110.0           2.60   \n",
            "28     13.87        1.90  2.80               19.4      107.0           2.95   \n",
            "127    11.79        2.13  2.78               28.5       92.0           2.13   \n",
            "152    13.11        1.90  2.75               25.5      116.0           2.20   \n",
            "96     11.81        2.12  2.74               21.5      134.0           1.60   \n",
            "\n",
            "     flavanoids  nonflavanoid_phenols  proanthocyanins  color_intensity   hue  \\\n",
            "121        5.08                  0.47             1.87             6.00  0.93   \n",
            "25         2.68                  0.47             1.92             3.58  1.13   \n",
            "112        2.03                  0.60             1.05             3.80  1.23   \n",
            "4          2.69                  0.39             1.82             4.32  1.04   \n",
            "169        0.96                  0.27             1.11             8.50  0.67   \n",
            "36         2.68                  0.34             1.36             4.60  1.09   \n",
            "28         2.97                  0.37             1.76             4.50  1.25   \n",
            "127        2.24                  0.58             1.76             3.00  0.97   \n",
            "152        1.28                  0.26             1.56             7.10  0.61   \n",
            "96         0.99                  0.14             1.56             2.50  0.95   \n",
            "\n",
            "     od280/od315_of_diluted_wines  proline  \n",
            "121                          3.69    465.0  \n",
            "25                           3.20    830.0  \n",
            "112                          2.50    607.0  \n",
            "4                            2.93    735.0  \n",
            "169                          1.92    630.0  \n",
            "36                           2.78    880.0  \n",
            "28                           3.40    915.0  \n",
            "127                          2.44    466.0  \n",
            "152                          1.33    425.0  \n",
            "96                           2.26    625.0  \n"
          ]
        }
      ],
      "source": [
        "# ===== 以下に解答のコードを入力して下さい =====\n",
        "ash_sorted = wine_df.sort_values(by='ash', ascending=False).head(10)\n",
        "print(ash_sorted)"
      ],
      "id": "5k2DJgF1j3nE"
    },
    {
      "cell_type": "markdown",
      "metadata": {
        "collapsed": false,
        "id": "xATHCNMcj3nE"
      },
      "source": [
        "### 問題2-3\n",
        "\n",
        "`wine_df` を `target` すなわちワインの種類によってグループに分け、`flavanoids` の平均値を計算しましょう。(※ヒントは[こちら](https://pandas.pydata.org/docs/reference/api/pandas.DataFrame.groupby.html))\n",
        "\n",
        "またその結果、平均値が一番小さい `target` はどれですか？"
      ],
      "id": "xATHCNMcj3nE"
    },
    {
      "cell_type": "code",
      "execution_count": 58,
      "metadata": {
        "ExecuteTime": {
          "end_time": "2024-01-30T09:43:30.575884Z",
          "start_time": "2024-01-30T09:43:30.571334Z"
        },
        "colab": {
          "base_uri": "https://localhost:8080/"
        },
        "id": "_BFI2QNMj3nE",
        "outputId": "274ebdbd-430d-4d62-8426-eb9ceb940ea0"
      },
      "outputs": [
        {
          "output_type": "stream",
          "name": "stdout",
          "text": [
            "target\n",
            "0    2.982373\n",
            "1    2.080845\n",
            "2    0.781458\n",
            "Name: flavanoids, dtype: float64\n"
          ]
        }
      ],
      "source": [
        "# wine_df に 新しい列 target を追加する\n",
        "wine_df['target'] = pd.DataFrame(wine_data.target)\n",
        "\n",
        "# ===== 以下に解答のコードを入力して下さい =====\n",
        "flavanoids_mean = wine_df.groupby('target')['flavanoids'].mean()\n",
        "print(flavanoids_mean)"
      ],
      "id": "_BFI2QNMj3nE"
    },
    {
      "cell_type": "code",
      "execution_count": 59,
      "metadata": {
        "ExecuteTime": {
          "end_time": "2024-01-30T09:43:30.577368Z",
          "start_time": "2024-01-30T09:43:30.574242Z"
        },
        "colab": {
          "base_uri": "https://localhost:8080/"
        },
        "id": "xnaE4S1Cj3nE",
        "outputId": "ef71b805-5d95-47db-c944-3f4f71859646"
      },
      "outputs": [
        {
          "output_type": "stream",
          "name": "stdout",
          "text": [
            "平均値が一番小さいtarget: 2\n"
          ]
        }
      ],
      "source": [
        "# ===== 以下に解答のコードを入力して下さい =====\n",
        "print(f\"平均値が一番小さいtarget: {flavanoids_mean.idxmin()}\")"
      ],
      "id": "xnaE4S1Cj3nE"
    },
    {
      "cell_type": "markdown",
      "metadata": {
        "collapsed": false,
        "id": "9UkDIxj-j3nE"
      },
      "source": [
        "### 問題2-4\n",
        "\n",
        "`wine_df` の列 `alcohol` に対して、\n",
        "\n",
        "13%以上は `1`\n",
        "13%未満は `0`\n",
        "\n",
        "と出力する関数 `is_alcohol_high` を適用し、新しく `alcohol_high` という変数を作成してみましょう。(※ヒントは[こちら](https://pandas.pydata.org/docs/reference/api/pandas.DataFrame.apply.html))\n",
        "\n",
        "作成したら、結果を下から10行出力して確認してみましょう。"
      ],
      "id": "9UkDIxj-j3nE"
    },
    {
      "cell_type": "code",
      "execution_count": 60,
      "metadata": {
        "ExecuteTime": {
          "end_time": "2024-01-30T09:43:30.585788Z",
          "start_time": "2024-01-30T09:43:30.583478Z"
        },
        "id": "-ASCyvwFj3nE"
      },
      "outputs": [],
      "source": [
        "# ===== 以下に解答のコードを入力して下さい =====\n",
        "def is_alcohol_high(alcohol):\n",
        "    return 1 if alcohol >= 13 else 0"
      ],
      "id": "-ASCyvwFj3nE"
    },
    {
      "cell_type": "code",
      "execution_count": 61,
      "metadata": {
        "colab": {
          "base_uri": "https://localhost:8080/"
        },
        "id": "oE0Hhp4Mj3nE",
        "outputId": "4fdc88ae-c0fd-4dad-c6d8-6e84de64a31d"
      },
      "outputs": [
        {
          "output_type": "stream",
          "name": "stdout",
          "text": [
            "     alcohol  malic_acid   ash  alcalinity_of_ash  magnesium  total_phenols  \\\n",
            "168    13.58        2.58  2.69               24.5      105.0           1.55   \n",
            "169    13.40        4.60  2.86               25.0      112.0           1.98   \n",
            "170    12.20        3.03  2.32               19.0       96.0           1.25   \n",
            "171    12.77        2.39  2.28               19.5       86.0           1.39   \n",
            "172    14.16        2.51  2.48               20.0       91.0           1.68   \n",
            "173    13.71        5.65  2.45               20.5       95.0           1.68   \n",
            "174    13.40        3.91  2.48               23.0      102.0           1.80   \n",
            "175    13.27        4.28  2.26               20.0      120.0           1.59   \n",
            "176    13.17        2.59  2.37               20.0      120.0           1.65   \n",
            "177    14.13        4.10  2.74               24.5       96.0           2.05   \n",
            "\n",
            "     flavanoids  nonflavanoid_phenols  proanthocyanins  color_intensity   hue  \\\n",
            "168        0.84                  0.39             1.54         8.660000  0.74   \n",
            "169        0.96                  0.27             1.11         8.500000  0.67   \n",
            "170        0.49                  0.40             0.73         5.500000  0.66   \n",
            "171        0.51                  0.48             0.64         9.899999  0.57   \n",
            "172        0.70                  0.44             1.24         9.700000  0.62   \n",
            "173        0.61                  0.52             1.06         7.700000  0.64   \n",
            "174        0.75                  0.43             1.41         7.300000  0.70   \n",
            "175        0.69                  0.43             1.35        10.200000  0.59   \n",
            "176        0.68                  0.53             1.46         9.300000  0.60   \n",
            "177        0.76                  0.56             1.35         9.200000  0.61   \n",
            "\n",
            "     od280/od315_of_diluted_wines  proline  target  alcohol_high  \n",
            "168                          1.80    750.0       2             1  \n",
            "169                          1.92    630.0       2             1  \n",
            "170                          1.83    510.0       2             0  \n",
            "171                          1.63    470.0       2             0  \n",
            "172                          1.71    660.0       2             1  \n",
            "173                          1.74    740.0       2             1  \n",
            "174                          1.56    750.0       2             1  \n",
            "175                          1.56    835.0       2             1  \n",
            "176                          1.62    840.0       2             1  \n",
            "177                          1.60    560.0       2             1  \n"
          ]
        }
      ],
      "source": [
        "# ===== 以下に解答のコードを入力して下さい =====\n",
        "wine_df['alcohol_high'] = wine_df['alcohol'].apply(is_alcohol_high)\n",
        "print(wine_df.tail(10))"
      ],
      "id": "oE0Hhp4Mj3nE"
    },
    {
      "cell_type": "markdown",
      "metadata": {
        "collapsed": false,
        "id": "6NXAQuVHj3nF"
      },
      "source": [
        "## 問題3 統計分析\n",
        "\n",
        "作成したデータに対して統計分析をしてみましょう。"
      ],
      "id": "6NXAQuVHj3nF"
    },
    {
      "cell_type": "markdown",
      "metadata": {
        "collapsed": false,
        "id": "d35B3n86j3nF"
      },
      "source": [
        "### 問題3-1\n",
        "\n",
        "dataframe の `describe` メソッドを使用し、数値データの各種統計量を確認してみましょう。(※ヒントは[こちら](https://pandas.pydata.org/docs/reference/api/pandas.DataFrame.describe.html))\n",
        "\n",
        "特徴量の中で一番標準偏差が大きいものはどれですか？"
      ],
      "id": "d35B3n86j3nF"
    },
    {
      "cell_type": "code",
      "execution_count": 62,
      "metadata": {
        "ExecuteTime": {
          "end_time": "2024-01-30T09:43:30.726339Z",
          "start_time": "2024-01-30T09:43:30.587748Z"
        },
        "colab": {
          "base_uri": "https://localhost:8080/"
        },
        "id": "QmMIzzd6j3nF",
        "outputId": "d7982d34-1770-4ce3-ed5c-83b679c1cfab"
      },
      "outputs": [
        {
          "output_type": "stream",
          "name": "stdout",
          "text": [
            "          alcohol  malic_acid         ash  alcalinity_of_ash   magnesium  \\\n",
            "count  178.000000  178.000000  178.000000         178.000000  178.000000   \n",
            "mean    13.000618    2.336348    2.366517          19.494944   99.741573   \n",
            "std      0.811827    1.117146    0.274344           3.339564   14.282484   \n",
            "min     11.030000    0.740000    1.360000          10.600000   70.000000   \n",
            "25%     12.362500    1.602500    2.210000          17.200000   88.000000   \n",
            "50%     13.050000    1.865000    2.360000          19.500000   98.000000   \n",
            "75%     13.677500    3.082500    2.557500          21.500000  107.000000   \n",
            "max     14.830000    5.800000    3.230000          30.000000  162.000000   \n",
            "\n",
            "       total_phenols  flavanoids  nonflavanoid_phenols  proanthocyanins  \\\n",
            "count     178.000000  178.000000            178.000000       178.000000   \n",
            "mean        2.295112    2.029270              0.361854         1.590899   \n",
            "std         0.625851    0.998859              0.124453         0.572359   \n",
            "min         0.980000    0.340000              0.130000         0.410000   \n",
            "25%         1.742500    1.205000              0.270000         1.250000   \n",
            "50%         2.355000    2.135000              0.340000         1.555000   \n",
            "75%         2.800000    2.875000              0.437500         1.950000   \n",
            "max         3.880000    5.080000              0.660000         3.580000   \n",
            "\n",
            "       color_intensity         hue  od280/od315_of_diluted_wines      proline  \\\n",
            "count       178.000000  178.000000                    178.000000   178.000000   \n",
            "mean          5.058090    0.957449                      2.611685   746.893258   \n",
            "std           2.318286    0.228572                      0.709990   314.907474   \n",
            "min           1.280000    0.480000                      1.270000   278.000000   \n",
            "25%           3.220000    0.782500                      1.937500   500.500000   \n",
            "50%           4.690000    0.965000                      2.780000   673.500000   \n",
            "75%           6.200000    1.120000                      3.170000   985.000000   \n",
            "max          13.000000    1.710000                      4.000000  1680.000000   \n",
            "\n",
            "           target  alcohol_high  \n",
            "count  178.000000    178.000000  \n",
            "mean     0.938202      0.516854  \n",
            "std      0.775035      0.501126  \n",
            "min      0.000000      0.000000  \n",
            "25%      0.000000      0.000000  \n",
            "50%      1.000000      1.000000  \n",
            "75%      2.000000      1.000000  \n",
            "max      2.000000      1.000000  \n"
          ]
        }
      ],
      "source": [
        "# ===== 以下に解答のコードを入力して下さい =====\n",
        "stats = wine_df.describe()\n",
        "print(stats)"
      ],
      "id": "QmMIzzd6j3nF"
    },
    {
      "cell_type": "code",
      "execution_count": 63,
      "metadata": {
        "ExecuteTime": {
          "end_time": "2024-01-30T09:43:30.726480Z",
          "start_time": "2024-01-30T09:43:30.599879Z"
        },
        "colab": {
          "base_uri": "https://localhost:8080/"
        },
        "id": "qlPWMumNj3nL",
        "outputId": "872fe5d9-a0c7-40f6-ce62-37bd03073c1d"
      },
      "outputs": [
        {
          "output_type": "stream",
          "name": "stdout",
          "text": [
            "一番標準偏差が大きいもの: proline\n"
          ]
        }
      ],
      "source": [
        "# ===== 以下に解答のコードを入力して下さい =====\n",
        "std_dev_max = stats.loc['std'].idxmax()\n",
        "print(f\"一番標準偏差が大きいもの: {std_dev_max}\")"
      ],
      "id": "qlPWMumNj3nL"
    },
    {
      "cell_type": "markdown",
      "metadata": {
        "collapsed": false,
        "id": "fwWKt3Ipj3nL"
      },
      "source": [
        "### 問題3-2\n",
        "\n",
        "dataframeの `plot.hist` メソッドを使用し、`proline` の分布を可視化しましょう。(※ヒントは[こちら](https://pandas.pydata.org/docs/reference/api/pandas.DataFrame.plot.hist.html))"
      ],
      "id": "fwWKt3Ipj3nL"
    },
    {
      "cell_type": "code",
      "execution_count": 64,
      "metadata": {
        "ExecuteTime": {
          "end_time": "2024-01-30T09:43:30.903865Z",
          "start_time": "2024-01-30T09:43:30.610072Z"
        },
        "colab": {
          "base_uri": "https://localhost:8080/",
          "height": 472
        },
        "id": "rD-Gr4K2j3nL",
        "outputId": "8b12e244-2021-4bec-da6c-154d042b1c24"
      },
      "outputs": [
        {
          "output_type": "display_data",
          "data": {
            "text/plain": [
              "<Figure size 640x480 with 1 Axes>"
            ],
            "image/png": "[encoded data removed]"
          },
          "metadata": {}
        }
      ],
      "source": [
        "# ===== 以下に解答のコードを入力して下さい =====\n",
        "wine_df['proline'].plot.hist(bins=20, alpha=0.7)\n",
        "plt.xlabel('Proline')\n",
        "plt.ylabel('Frequency')\n",
        "plt.title('Proline')\n",
        "plt.show()"
      ],
      "id": "rD-Gr4K2j3nL"
    },
    {
      "cell_type": "markdown",
      "metadata": {
        "collapsed": false,
        "id": "lK_yMA9Qj3nL"
      },
      "source": [
        "### 問題3-3\n",
        "\n",
        "dataframeの `plot.scatter` メソッドを使用し、`total_phenols`, `flavanoids` の分布を可視化しましょう。(※ヒントは[こちら](https://pandas.pydata.org/docs/reference/api/pandas.DataFrame.plot.scatter.html))\n",
        "\n",
        "また可視化した結果、どんなことが言えそうですか？"
      ],
      "id": "lK_yMA9Qj3nL"
    },
    {
      "cell_type": "code",
      "execution_count": 65,
      "metadata": {
        "ExecuteTime": {
          "end_time": "2024-01-30T09:43:31.033982Z",
          "start_time": "2024-01-30T09:43:30.783235Z"
        },
        "colab": {
          "base_uri": "https://localhost:8080/",
          "height": 472
        },
        "id": "F8_fqY1hj3nL",
        "outputId": "00ae1ada-b764-441d-edae-c7e38c3c4945"
      },
      "outputs": [
        {
          "output_type": "display_data",
          "data": {
            "text/plain": [
              "<Figure size 640x480 with 1 Axes>"
            ],
            "image/png": "[encoded data removed]"
          },
          "metadata": {}
        }
      ],
      "source": [
        "# ===== 以下に解答のコードを入力して下さい =====\n",
        "wine_df.plot.scatter(x='total_phenols', y='flavanoids', alpha=0.7)\n",
        "plt.xlabel('Total Phenols')\n",
        "plt.ylabel('Flavanoids')\n",
        "plt.title('total_phenols, flavanoids')\n",
        "plt.show()"
      ],
      "id": "F8_fqY1hj3nL"
    },
    {
      "cell_type": "code",
      "execution_count": 66,
      "metadata": {
        "ExecuteTime": {
          "end_time": "2024-01-30T09:43:31.038417Z",
          "start_time": "2024-01-30T09:43:30.939726Z"
        },
        "id": "yD6XsfUrj3nL"
      },
      "outputs": [],
      "source": [
        "# ===== 以下に解答のコードを入力して下さい =====\n",
        "# ワインに含まれるフェノールは、フラボノイドという成分に依存している、線形関係がある"
      ],
      "id": "yD6XsfUrj3nL"
    },
    {
      "cell_type": "markdown",
      "metadata": {
        "collapsed": false,
        "id": "wB8kmr2Cj3nL"
      },
      "source": [
        "### 問題3-4\n",
        "\n",
        "dataframeの `corr` メソッドを使用し、`total_phenols`, `flavanoids` の相関係数を計算しましょう。(※ヒントは[こちら](https://pandas.pydata.org/docs/reference/api/pandas.DataFrame.corr.html))"
      ],
      "id": "wB8kmr2Cj3nL"
    },
    {
      "cell_type": "code",
      "execution_count": 67,
      "metadata": {
        "ExecuteTime": {
          "end_time": "2024-01-30T09:43:31.038667Z",
          "start_time": "2024-01-30T09:43:30.946018Z"
        },
        "colab": {
          "base_uri": "https://localhost:8080/"
        },
        "id": "137Cwm1Nj3nL",
        "outputId": "15492d04-1c2a-45ba-d46a-e4892d46b757"
      },
      "outputs": [
        {
          "output_type": "stream",
          "name": "stdout",
          "text": [
            "correlation of total_phenols and flavanoids: 0.865\n"
          ]
        }
      ],
      "source": [
        "# ===== 以下に解答のコードを入力して下さい =====\n",
        "correlation = wine_df[['total_phenols', 'flavanoids']].corr().iloc[0, 1]\n",
        "print(f\"correlation of total_phenols and flavanoids: {correlation:.3f}\")"
      ],
      "id": "137Cwm1Nj3nL"
    },
    {
      "cell_type": "markdown",
      "metadata": {
        "collapsed": false,
        "id": "28cA5Ne5j3nM"
      },
      "source": [
        "### 問題4 探索的データ解析（EDA）\n",
        "\n",
        "EDAを行い、データの特徴や傾向を特定していきましょう。"
      ],
      "id": "28cA5Ne5j3nM"
    },
    {
      "cell_type": "markdown",
      "metadata": {
        "collapsed": false,
        "id": "v29Lpk5Nj3nM"
      },
      "source": [
        "### 問題4-1\n",
        "\n",
        "ワインの種類 `target` ごとに特徴量の平均を算出してみましょう。\n",
        "またその結果、ワインの種類 `target` ごとに差がある特徴量を2つ選択して下さい。"
      ],
      "id": "v29Lpk5Nj3nM"
    },
    {
      "cell_type": "markdown",
      "source": [],
      "metadata": {
        "id": "BKmr2CTekND4"
      },
      "id": "BKmr2CTekND4"
    },
    {
      "cell_type": "code",
      "execution_count": 68,
      "metadata": {
        "ExecuteTime": {
          "end_time": "2024-01-30T09:43:31.038745Z",
          "start_time": "2024-01-30T09:43:30.955579Z"
        },
        "colab": {
          "base_uri": "https://localhost:8080/"
        },
        "id": "dFSXpesFj3nM",
        "outputId": "99428176-9383-47ba-a70b-38f56983338a"
      },
      "outputs": [
        {
          "output_type": "stream",
          "name": "stdout",
          "text": [
            "          alcohol  malic_acid       ash  alcalinity_of_ash   magnesium  \\\n",
            "target                                                                   \n",
            "0       13.744746    2.010678  2.455593          17.037288  106.338983   \n",
            "1       12.278732    1.932676  2.244789          20.238028   94.549296   \n",
            "2       13.153750    3.333750  2.437083          21.416667   99.312500   \n",
            "\n",
            "        total_phenols  flavanoids  nonflavanoid_phenols  proanthocyanins  \\\n",
            "target                                                                     \n",
            "0            2.840169    2.982373              0.290000         1.899322   \n",
            "1            2.258873    2.080845              0.363662         1.630282   \n",
            "2            1.678750    0.781458              0.447500         1.153542   \n",
            "\n",
            "        color_intensity       hue  od280/od315_of_diluted_wines      proline  \\\n",
            "target                                                                         \n",
            "0              5.528305  1.062034                      3.157797  1115.711864   \n",
            "1              3.086620  1.056282                      2.785352   519.507042   \n",
            "2              7.396250  0.682708                      1.683542   629.895833   \n",
            "\n",
            "        alcohol_high  \n",
            "target                \n",
            "0           0.966102  \n",
            "1           0.112676  \n",
            "2           0.562500  \n"
          ]
        }
      ],
      "source": [
        "# ===== 以下に解答のコードを入力して下さい =====\n",
        "target_means = wine_df.groupby('target').mean()\n",
        "print(target_means)"
      ],
      "id": "dFSXpesFj3nM"
    },
    {
      "cell_type": "code",
      "execution_count": 69,
      "metadata": {
        "ExecuteTime": {
          "end_time": "2024-01-30T09:43:31.038809Z",
          "start_time": "2024-01-30T09:43:30.960252Z"
        },
        "colab": {
          "base_uri": "https://localhost:8080/"
        },
        "id": "3KdCDSu8j3nM",
        "outputId": "a27638e7-6114-4fa6-dde8-49b89901857f"
      },
      "outputs": [
        {
          "output_type": "stream",
          "name": "stdout",
          "text": [
            "Feature range (max - min):\n",
            "proline                         596.204822\n",
            "magnesium                        11.789687\n",
            "alcalinity_of_ash                 4.379379\n",
            "color_intensity                   4.309630\n",
            "flavanoids                        2.200915\n",
            "od280/od315_of_diluted_wines      1.474255\n",
            "alcohol                           1.466013\n",
            "malic_acid                        1.401074\n",
            "total_phenols                     1.161419\n",
            "alcohol_high                      0.853426\n",
            "proanthocyanins                   0.745780\n",
            "hue                               0.379326\n",
            "ash                               0.210804\n",
            "nonflavanoid_phenols              0.157500\n",
            "dtype: float64\n",
            "\n",
            "Feature variance:\n",
            "proline                         29011.382393\n",
            "magnesium                         169.836670\n",
            "alcalinity_of_ash                   7.601337\n",
            "color_intensity                     2.576670\n",
            "malic_acid                          0.896339\n",
            "alcohol                             0.261374\n",
            "flavanoids                          0.247386\n",
            "proanthocyanins                     0.233155\n",
            "total_phenols                       0.179914\n",
            "od280/od315_of_diluted_wines        0.149378\n",
            "alcohol_high                        0.128684\n",
            "ash                                 0.061745\n",
            "hue                                 0.022616\n",
            "nonflavanoid_phenols                0.011895\n",
            "dtype: float64\n",
            "\n",
            "Feature division:\n",
            "ash                             0.914153\n",
            "alcohol                         0.893340\n",
            "magnesium                       0.889131\n",
            "alcalinity_of_ash               0.795515\n",
            "nonflavanoid_phenols            0.648045\n",
            "hue                             0.642831\n",
            "proanthocyanins                 0.607344\n",
            "total_phenols                   0.591074\n",
            "malic_acid                      0.579730\n",
            "od280/od315_of_diluted_wines    0.533138\n",
            "proline                         0.465628\n",
            "color_intensity                 0.417322\n",
            "flavanoids                      0.262026\n",
            "alcohol_high                    0.116630\n",
            "dtype: float64\n"
          ]
        }
      ],
      "source": [
        "# ===== 以下に解答のコードを入力して下さい =====\n",
        "feature_range = target_means.max() - target_means.min()\n",
        "\n",
        "feature_variances = wine_df.groupby('target').var().mean()\n",
        "\n",
        "feature_division = target_means.min() / target_means.max()\n",
        "\n",
        "print(\"Feature range (max - min):\")\n",
        "print(feature_range.sort_values(ascending=False))\n",
        "\n",
        "print(\"\\nFeature variance:\")\n",
        "print(feature_variances.sort_values(ascending=False))\n",
        "\n",
        "print(\"\\nFeature division:\")\n",
        "print(feature_division.sort_values(ascending=False))"
      ],
      "id": "3KdCDSu8j3nM"
    },
    {
      "cell_type": "markdown",
      "metadata": {
        "collapsed": false,
        "id": "KxnGsMglj3nM"
      },
      "source": [
        "### 問題4-2\n",
        "\n",
        "問題4-1 で選択した２つの特徴量で、上手くワインの種類が分類できそうかを散布図を用いて確認してみましょう。\n",
        "\n",
        "ここでは `seaborn` の `scatterplot` を用いて描画してみましょう。(※ヒントは[こちら](https://seaborn.pydata.org/generated/seaborn.scatterplot.html))"
      ],
      "id": "KxnGsMglj3nM"
    },
    {
      "cell_type": "code",
      "source": [
        "# ===== 以下に解答のコードを入力して下さい =====\n",
        "#feature_rangeおよびfeature_variances\n",
        "selected_features = ['proline', 'magnesium']\n",
        "plt.figure(figsize=(8, 6))\n",
        "sns.scatterplot(data=wine_df, x=selected_features[0], y=selected_features[1], hue='target', palette='viridis')\n",
        "plt.xlabel(selected_features[0])\n",
        "plt.ylabel(selected_features[1])\n",
        "plt.title(f\"{selected_features[0]} vs {selected_features[1]}\")\n",
        "plt.legend(title=\"Target\")\n",
        "plt.show()"
      ],
      "metadata": {
        "colab": {
          "base_uri": "https://localhost:8080/",
          "height": 564
        },
        "id": "9UFSnt_TBAlk",
        "outputId": "34b6eb9f-6582-438e-efe8-0778a05bf40f"
      },
      "id": "9UFSnt_TBAlk",
      "execution_count": 70,
      "outputs": [
        {
          "output_type": "display_data",
          "data": {
            "text/plain": [
              "<Figure size 800x600 with 1 Axes>"
            ],
            "image/png": "[encoded data removed]"
          },
          "metadata": {}
        }
      ]
    },
    {
      "cell_type": "code",
      "execution_count": 71,
      "metadata": {
        "ExecuteTime": {
          "end_time": "2024-01-30T09:43:31.234996Z",
          "start_time": "2024-01-30T09:43:30.965521Z"
        },
        "colab": {
          "base_uri": "https://localhost:8080/",
          "height": 564
        },
        "id": "Lu5BhH1Dj3nM",
        "outputId": "2f397ef2-ebee-4b3b-a865-25731a2b9f4d"
      },
      "outputs": [
        {
          "output_type": "display_data",
          "data": {
            "text/plain": [
              "<Figure size 800x600 with 1 Axes>"
            ],
            "image/png": "[encoded data removed]"
          },
          "metadata": {}
        }
      ],
      "source": [
        "# ===== 以下に解答のコードを入力して下さい =====\n",
        "#feature_division\n",
        "#alcohol_highは0,1のみのため除外\n",
        "selected_features = ['flavanoids', 'color_intensity']\n",
        "plt.figure(figsize=(8, 6))\n",
        "sns.scatterplot(data=wine_df, x=selected_features[0], y=selected_features[1], hue='target', palette='viridis')\n",
        "plt.xlabel(selected_features[0])\n",
        "plt.ylabel(selected_features[1])\n",
        "plt.title(f\"{selected_features[0]} vs {selected_features[1]}\")\n",
        "plt.legend(title=\"Target\")\n",
        "plt.show()\n",
        "#これが一番良い！"
      ],
      "id": "Lu5BhH1Dj3nM"
    },
    {
      "cell_type": "markdown",
      "source": [],
      "metadata": {
        "id": "_layoBlIrgNk"
      },
      "id": "_layoBlIrgNk"
    }
  ],
  "metadata": {
    "kernelspec": {
      "display_name": "Python 3 (ipykernel)",
      "language": "python",
      "name": "python3"
    },
    "language_info": {
      "codemirror_mode": {
        "name": "ipython",
        "version": 3
      },
      "file_extension": ".py",
      "mimetype": "text/x-python",
      "name": "python",
      "nbconvert_exporter": "python",
      "pygments_lexer": "ipython3",
      "version": "3.10.11"
    },
    "colab": {
      "provenance": [],
      "collapsed_sections": [
        "qcdAJKLLj3nB"
      ]
    }
  },
  "nbformat": 4,
  "nbformat_minor": 5
}